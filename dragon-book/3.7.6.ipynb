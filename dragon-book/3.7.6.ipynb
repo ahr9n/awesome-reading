{
 "cells": [
  {
   "cell_type": "markdown",
   "metadata": {},
   "source": [
    "<h1 align=\"center\">Exercises for Section 3.7</h1>"
   ]
  },
  {
   "cell_type": "markdown",
   "metadata": {},
   "source": [
    "**Exercise 3.7.1:** Convert to DFA's the NFA's of:\n",
    "\n",
    "> a) Fig. 3.26.\n",
    "\n",
    "![3.26](https://user-images.githubusercontent.com/52632898/150003679-6f0519ad-4133-4816-bfcc-2611742c3b89.png)"
   ]
  },
  {
   "cell_type": "markdown",
   "metadata": {},
   "source": [
    "| NFA STATE | DFA STATE | $a$ | $b$ |\n",
    "|:---------:|:---------:|:-----:|:-----:|\n",
    "|$\\{0,1,3\\}$|$A$|$B$|$C$|\n",
    "|$\\{2\\}$|$B$|$B$|$\\emptyset$|\n",
    "|$\\{4\\}$|$C$|$\\emptyset$|$C$|\n",
    "\n",
    "![3.7.1.a](https://user-images.githubusercontent.com/52632898/149996006-7bebfad4-116c-4bfa-a6ad-90a5b510db00.png)"
   ]
  },
  {
   "cell_type": "markdown",
   "metadata": {},
   "source": [
    "> b) Fig. 3.29.\n",
    "\n",
    "![3.29](https://user-images.githubusercontent.com/52632898/150000333-c75b283b-b40d-4f1d-9c43-9fab4a240745.png)"
   ]
  },
  {
   "cell_type": "markdown",
   "metadata": {},
   "source": [
    "| NFA STATE | DFA STATE | $a$ | $b$ |\n",
    "|:---------:|:---------:|:-----:|:-----:|\n",
    "|$\\{0\\}$|$A$|$B$|$A$|\n",
    "|$\\{0, 1\\}$|$B$|$C$|$B$|\n",
    "|$\\{0, 1, 2\\}$|$C$|$C$|$D$|\n",
    "|$\\{0, 1, 2, 3\\}$|$D$|$C$|$D$|\n",
    "\n",
    "![3.7.1.b](https://user-images.githubusercontent.com/52632898/149996143-c36af309-4bf3-45dc-aabd-218781b0bc89.png)"
   ]
  },
  {
   "cell_type": "markdown",
   "metadata": {},
   "source": [
    "> c) Fig. 3.30.\n",
    "\n",
    "![3.30](https://user-images.githubusercontent.com/52632898/150000544-a923cd4d-b297-4629-bc18-039ac465a254.png)"
   ]
  },
  {
   "cell_type": "markdown",
   "metadata": {},
   "source": [
    "| NFA STATE | DFA STATE | $a$ | $b$ |\n",
    "|:---------:|:---------:|:-----:|:-----:|\n",
    "|$\\{0, 1, 2, 3\\}$|$A$|$A$|$A$|\n",
    "\n",
    "![3.7.1.c](https://user-images.githubusercontent.com/52632898/149996246-52fc88aa-583d-426f-9784-9aa615b5dcb1.png)"
   ]
  },
  {
   "cell_type": "markdown",
   "metadata": {},
   "source": [
    "**Exercise 3.7.2:** use Algorithm 3.22\n",
    "```\n",
    "S = ϵ-closure(s0);\n",
    "c = nextChar();\n",
    "while ( c != eof ) {\n",
    "    S = ϵ-closure(move(S, c));\n",
    "    c = nextChar();\n",
    "}\n",
    "if ( S ∩ F ) return \"yes\";\n",
    "else return \"no\";\n",
    "```\n",
    "to simulate the NFA's on input $aabb$.\n",
    "\n",
    "> a) Fig. 3.29.\n",
    "\n",
    "![3.29](https://user-images.githubusercontent.com/52632898/150000333-c75b283b-b40d-4f1d-9c43-9fab4a240745.png)"
   ]
  },
  {
   "cell_type": "markdown",
   "metadata": {},
   "source": [
    "| String | State |\n",
    "|:------:|:-----:|\n",
    "| start | $\\{0\\}$ |\n",
    "| a | $\\{0, 1\\}$ |\n",
    "| a | $\\{0, 1, 2\\}$ |\n",
    "| b | $\\{0, 1, 2, 3\\}$ |\n",
    "| b | $\\{0, 1, 2, 3\\}$ |"
   ]
  },
  {
   "cell_type": "markdown",
   "metadata": {},
   "source": [
    "> b) Fig. 3.30.\n",
    "\n",
    "![3.30](https://user-images.githubusercontent.com/52632898/150000544-a923cd4d-b297-4629-bc18-039ac465a254.png)"
   ]
  },
  {
   "cell_type": "markdown",
   "metadata": {},
   "source": [
    "| String | State |\n",
    "|:------:|:-----:|\n",
    "| start | $\\{0, 1, 2, 3\\}$ |\n",
    "| a | $\\{0, 1, 2, 3\\}$ |\n",
    "| a | $\\{0, 1, 2, 3\\}$ |\n",
    "| b | $\\{0, 1, 2, 3\\}$ |\n",
    "| b | $\\{0, 1, 2, 3\\}$ |"
   ]
  },
  {
   "cell_type": "markdown",
   "metadata": {},
   "source": [
    "**Exercise 3.7.3:** Convert the following regular expressions to deterministic finite automata, using algorithms 3.23 _(Simulating an NFA)_ and 3.20 _(The subset construction of a DFA from an NFA)_:\n",
    "\n",
    "> a) $(a|b)*$"
   ]
  },
  {
   "cell_type": "markdown",
   "metadata": {},
   "source": [
    "_*You can use the [Toolbox](https://github.com/CyberZHG/toolbox) to generate the [NFA](https://cyberzhg.github.io/toolbox/regex2nfa?regex=KGF8Yikq) and the [DFA](https://cyberzhg.github.io/toolbox/nfa2dfa?regex=KGF8Yikq) correctly._\n",
    "\n",
    "> NFA:\n",
    "\n",
    "![3.7.3.a.nfa](https://user-images.githubusercontent.com/52632898/150001371-33377a45-b7cc-43b8-9517-cf39f58e45b2.png)\n",
    "\n",
    "> Transition table $Dtran$ for DFA:\n",
    "\n",
    "| NFA STATE | DFA STATE | $a$ | $b$ |\n",
    "|:---------:|:---------:|:-----:|:-----:|\n",
    "|$\\{0, 1, 2, 3, 7\\}$|$A$|$B$|$C$|\n",
    "|$\\{1, 2, 3, 4, 6, 7\\}$|$B$|$B$|$C$|\n",
    "|$\\{1, 2, 3, 5, 6, 7\\}$|$C$|$B$|$C$|\n",
    "\n",
    "> DFA:\n",
    "\n",
    "![3.7.3.a.dfa](https://user-images.githubusercontent.com/52632898/150001699-9ed7f17d-1105-4f5a-bd62-6ce487621f09.png)\n"
   ]
  },
  {
   "cell_type": "markdown",
   "metadata": {},
   "source": [
    "> b) $(a*|b*)*$"
   ]
  },
  {
   "cell_type": "markdown",
   "metadata": {},
   "source": [
    "_*You can use the [Toolbox](https://github.com/CyberZHG/toolbox) to generate the [NFA](https://cyberzhg.github.io/toolbox/regex2nfa?regex=KGEqfGIqKSo=) and the [DFA](https://cyberzhg.github.io/toolbox/nfa2dfa?regex=KGEqfGIqKSo=) correctly._\n",
    "\n",
    "> NFA:\n",
    "\n",
    "![3.7.3.b.nfa](https://user-images.githubusercontent.com/52632898/150002114-22cbc46f-bd43-4efb-bcce-61a93febf578.png)\n",
    "\n",
    "> Transition table $Dtran$ for DFA:\n",
    "\n",
    "| NFA STATE | DFA STATE | $a$ | $b$ |\n",
    "|:---------:|:---------:|:-----:|:-----:|\n",
    "|$\\{0,1,2,3,4,5,8,9,10,11\\}$|$A$|$B$|$C$|\n",
    "|$\\{1,2,3,4,5,6,8,9,10,11\\}$|$A$|$B$|$C$|\n",
    "|$\\{1,2,3,4,5,7,8,9,10,11\\}$|$A$|$B$|$C$|\n",
    "\n",
    "> DFA:\n",
    "\n",
    "![3.7.3.b.dfa](https://user-images.githubusercontent.com/52632898/150002269-2645894b-ce07-4b9b-8a47-e400df8c1d1d.png)"
   ]
  },
  {
   "cell_type": "markdown",
   "metadata": {},
   "source": [
    "> c) $((\\epsilon|a)b*)*$"
   ]
  },
  {
   "cell_type": "markdown",
   "metadata": {},
   "source": [
    "_*You can use the [Toolbox](https://github.com/CyberZHG/toolbox) to generate the [NFA](https://cyberzhg.github.io/toolbox/regex2nfa?regex=KCjPtXxhKWIqKSo=) and the [DFA](https://cyberzhg.github.io/toolbox/nfa2dfa?regex=KCjPtXxhKWIqKSo=) correctly._\n",
    "\n",
    "> NFA:\n",
    "\n",
    "![3.7.3.c.nfa](https://user-images.githubusercontent.com/52632898/150002518-c82f2d22-42ac-4e91-9afb-e90d7b8550b5.png)\n",
    "\n",
    "> Transition table $Dtran$ for DFA:\n",
    "\n",
    "| NFA STATE | DFA STATE | $a$ | $b$ |\n",
    "|:---------:|:---------:|:-----:|:-----:|\n",
    "|$\\{0,1,2,3,4,6,7,9,10,11\\}$|$A$|$B$|$C$|\n",
    "|$\\{1,2,3,4,5,6,7,9,10,11\\}$|$A$|$B$|$C$|\n",
    "|$\\{1,2,3,4,6,7,8,9,10,11\\}$|$A$|$B$|$C$|\n",
    "\n",
    "> DFA:\n",
    "\n",
    "![3.7.3.c.dfa](https://user-images.githubusercontent.com/52632898/150002612-799ce177-f07b-4a8d-ad1e-34922d11f455.png)"
   ]
  },
  {
   "cell_type": "markdown",
   "metadata": {},
   "source": [
    "> d) $(a|b)*abb(a|b)*$"
   ]
  },
  {
   "cell_type": "markdown",
   "metadata": {},
   "source": [
    "_*You can use the [Toolbox](https://github.com/CyberZHG/toolbox) to generate the [NFA](https://cyberzhg.github.io/toolbox/regex2nfa?regex=KGF8YikqYWJiKGF8Yikq) and the [DFA](https://cyberzhg.github.io/toolbox/nfa2dfa?regex=KGF8YikqYWJiKGF8Yikq) correctly._\n",
    "\n",
    "> NFA:\n",
    "\n",
    "![3.7.3.d.nfa](https://user-images.githubusercontent.com/52632898/150002793-5ca15dc8-a1ae-4362-a1d5-fc5cea828a2a.png)\n",
    "\n",
    "> Transition table $Dtran$ for DFA:\n",
    "\n",
    "| NFA STATE | DFA STATE | $a$ | $b$ |\n",
    "|:---------:|:---------:|:-----:|:-----:|\n",
    "|$\\{0,1,2,3,7\\}$|$A$|$B$|$C$|\n",
    "|$\\{1,2,3,4,6,7,8\\}$|$B$|$B$|$D$|\n",
    "|$\\{1,2,3,5,6,7\\}$|$C$|$B$|$C$|\n",
    "|$\\{1,2,3,4,6,7,9\\}$|$D$|$B$|$E$|\n",
    "|$\\{1,2,3,5,6,7,10,11,12,13,17\\}$|$E$|$F$|$G$|\n",
    "|$\\{1,2,3,4,6,7,8,11,12,13,14,16,17\\}$|$F$|$F$|$H$|\n",
    "|$\\{1,2,3,5,6,7,11,12,13,15,16,17\\}$|$G$|$F$|$G$|\n",
    "|$\\{1,2,3,5,6,7,9,11,12,13,15,16,17\\}$|$H$|$F$|$I$|\n",
    "|$\\{1,2,3,5,6,7,10,11,12,13,15,16,17\\}$|$I$|$F$|$G$|\n",
    "\n",
    "> DFA:\n",
    "\n",
    "![3.7.3.d.dfa](https://user-images.githubusercontent.com/52632898/150002888-e2f9f8c4-6725-49f4-a339-9d7408138194.png)"
   ]
  }
 ],
 "metadata": {
  "kernelspec": {
   "display_name": "Python 2",
   "language": "python",
   "name": "python2"
  },
  "language_info": {
   "codemirror_mode": {
    "name": "ipython",
    "version": 2
   },
   "file_extension": ".py",
   "mimetype": "text/x-python",
   "name": "python",
   "nbconvert_exporter": "python",
   "pygments_lexer": "ipython2",
   "version": "2.7.12"
  }
 },
 "nbformat": 4,
 "nbformat_minor": 2
}